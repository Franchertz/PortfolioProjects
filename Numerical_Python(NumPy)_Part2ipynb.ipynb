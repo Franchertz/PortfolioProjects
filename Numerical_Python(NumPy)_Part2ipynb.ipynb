{
  "nbformat": 4,
  "nbformat_minor": 0,
  "metadata": {
    "colab": {
      "provenance": [],
      "authorship_tag": "ABX9TyObdbS0KqQjfT7118utEHnD",
      "include_colab_link": true
    },
    "kernelspec": {
      "name": "python3",
      "display_name": "Python 3"
    },
    "language_info": {
      "name": "python"
    }
  },
  "cells": [
    {
      "cell_type": "markdown",
      "metadata": {
        "id": "view-in-github",
        "colab_type": "text"
      },
      "source": [
        "<a href=\"https://colab.research.google.com/github/Franchertz/PortfolioProjects/blob/main/Numerical_Python(NumPy)_Part2ipynb.ipynb\" target=\"_parent\"><img src=\"https://colab.research.google.com/assets/colab-badge.svg\" alt=\"Open In Colab\"/></a>"
      ]
    },
    {
      "cell_type": "markdown",
      "source": [
        "#**Numpy: Generating Random Values**\n",
        "\n",
        "**with <np.random.rand>**"
      ],
      "metadata": {
        "id": "_dn3C-vqjLyD"
      }
    },
    {
      "cell_type": "markdown",
      "source": [
        "#Example: *Creating an array of a given shape and populating with random samples form a uniform distribution between 0 and 1*"
      ],
      "metadata": {
        "id": "OffqAPizjol3"
      }
    },
    {
      "cell_type": "code",
      "source": [
        "import numpy as np"
      ],
      "metadata": {
        "id": "CXNmAmnYjfMV"
      },
      "execution_count": 9,
      "outputs": []
    },
    {
      "cell_type": "code",
      "source": [
        "np.random.rand(3,2)"
      ],
      "metadata": {
        "colab": {
          "base_uri": "https://localhost:8080/"
        },
        "id": "lsG9YqDBmuby",
        "outputId": "b71b4473-ad70-4d57-c7ee-57a1fb620ff5"
      },
      "execution_count": 14,
      "outputs": [
        {
          "output_type": "execute_result",
          "data": {
            "text/plain": [
              "array([[0.36873788, 0.03643588],\n",
              "       [0.5761742 , 0.67772736],\n",
              "       [0.12800143, 0.34322226]])"
            ]
          },
          "metadata": {},
          "execution_count": 14
        }
      ]
    },
    {
      "cell_type": "code",
      "source": [
        "np.random.rand(5,3)"
      ],
      "metadata": {
        "colab": {
          "base_uri": "https://localhost:8080/"
        },
        "id": "IS_kG9_hm5qx",
        "outputId": "152df5c3-2758-4c09-ac45-f19f67aa40fc"
      },
      "execution_count": 17,
      "outputs": [
        {
          "output_type": "execute_result",
          "data": {
            "text/plain": [
              "array([[0.20996734, 0.18291374, 0.69065458],\n",
              "       [0.23476411, 0.84468728, 0.97579136],\n",
              "       [0.493457  , 0.5374894 , 0.04893742],\n",
              "       [0.28448251, 0.46257101, 0.23203518],\n",
              "       [0.0572425 , 0.19900911, 0.59224405]])"
            ]
          },
          "metadata": {},
          "execution_count": 17
        }
      ]
    },
    {
      "cell_type": "markdown",
      "source": [
        "**with <np.random.rand>**"
      ],
      "metadata": {
        "id": "PzIJ9JoAnkRY"
      }
    },
    {
      "cell_type": "code",
      "source": [
        "a = np.random.randn(3,3) #Returns sample from the \"standard normal\" distribution\n",
        "a"
      ],
      "metadata": {
        "colab": {
          "base_uri": "https://localhost:8080/"
        },
        "id": "hjD0Lq8bn5NZ",
        "outputId": "5605dab6-9cda-4983-c93a-1c5b91f012b4"
      },
      "execution_count": 23,
      "outputs": [
        {
          "output_type": "execute_result",
          "data": {
            "text/plain": [
              "array([[-0.5501054 ,  0.83530375, -0.3671542 ],\n",
              "       [ 0.27087073,  0.69479907,  1.05792263],\n",
              "       [-1.23820189,  0.61202913, -0.59685642]])"
            ]
          },
          "metadata": {},
          "execution_count": 23
        }
      ]
    },
    {
      "cell_type": "markdown",
      "source": [
        "**with <np.random.randint>**"
      ],
      "metadata": {
        "id": "81bsIvApo8pR"
      }
    },
    {
      "cell_type": "code",
      "source": [
        "#Generating 10 numbers between 4 and 15\n",
        "mn=np.random.randint(4,15,10)\n",
        "mn"
      ],
      "metadata": {
        "colab": {
          "base_uri": "https://localhost:8080/"
        },
        "id": "9MkObaGOpd5v",
        "outputId": "24663ef0-ecc4-4958-d656-aa12d8977fae"
      },
      "execution_count": 35,
      "outputs": [
        {
          "output_type": "execute_result",
          "data": {
            "text/plain": [
              "array([14,  7,  9, 10,  9,  6, 11,  6,  4,  7])"
            ]
          },
          "metadata": {},
          "execution_count": 35
        }
      ]
    },
    {
      "cell_type": "code",
      "source": [
        "len(mn)"
      ],
      "metadata": {
        "colab": {
          "base_uri": "https://localhost:8080/"
        },
        "id": "o2HwaKp3qHvg",
        "outputId": "c8d4ca7b-43b7-4b07-8ee4-66173f28c7a6"
      },
      "execution_count": 36,
      "outputs": [
        {
          "output_type": "execute_result",
          "data": {
            "text/plain": [
              "10"
            ]
          },
          "metadata": {},
          "execution_count": 36
        }
      ]
    },
    {
      "cell_type": "code",
      "source": [
        "mn.reshape(5,2)"
      ],
      "metadata": {
        "colab": {
          "base_uri": "https://localhost:8080/"
        },
        "id": "knp1Za_uqMGf",
        "outputId": "ae9a75cd-4977-4de6-bf03-b1e642fd2819"
      },
      "execution_count": 37,
      "outputs": [
        {
          "output_type": "execute_result",
          "data": {
            "text/plain": [
              "array([[14,  7],\n",
              "       [ 9, 10],\n",
              "       [ 9,  6],\n",
              "       [11,  6],\n",
              "       [ 4,  7]])"
            ]
          },
          "metadata": {},
          "execution_count": 37
        }
      ]
    },
    {
      "cell_type": "code",
      "source": [
        "tt = np.random.randint(0,10, (4,3))\n",
        "tt"
      ],
      "metadata": {
        "colab": {
          "base_uri": "https://localhost:8080/"
        },
        "id": "3d4ksllIqcXg",
        "outputId": "9e2640e5-7b4e-48da-f1c7-6cd719c514d2"
      },
      "execution_count": 38,
      "outputs": [
        {
          "output_type": "execute_result",
          "data": {
            "text/plain": [
              "array([[3, 0, 6],\n",
              "       [6, 5, 2],\n",
              "       [1, 2, 5],\n",
              "       [4, 8, 4]])"
            ]
          },
          "metadata": {},
          "execution_count": 38
        }
      ]
    }
  ]
}