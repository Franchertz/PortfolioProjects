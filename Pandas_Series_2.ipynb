{
  "nbformat": 4,
  "nbformat_minor": 0,
  "metadata": {
    "colab": {
      "provenance": [],
      "authorship_tag": "ABX9TyMpGXzuCT2r4q4jOyGLHgaO",
      "include_colab_link": true
    },
    "kernelspec": {
      "name": "python3",
      "display_name": "Python 3"
    },
    "language_info": {
      "name": "python"
    }
  },
  "cells": [
    {
      "cell_type": "markdown",
      "metadata": {
        "id": "view-in-github",
        "colab_type": "text"
      },
      "source": [
        "<a href=\"https://colab.research.google.com/github/Franchertz/PortfolioProjects/blob/main/Pandas_Series_2.ipynb\" target=\"_parent\"><img src=\"https://colab.research.google.com/assets/colab-badge.svg\" alt=\"Open In Colab\"/></a>"
      ]
    },
    {
      "cell_type": "code",
      "execution_count": 1,
      "metadata": {
        "id": "SBaEtazXNZpq"
      },
      "outputs": [],
      "source": [
        "import pandas as pd\n",
        "import numpy as np"
      ]
    },
    {
      "cell_type": "code",
      "source": [
        "days = pd.Series(['Monday','Tuesday','Wednesday','Thursday','Friday'], index = ['Day1','Day2','Day3','Day4','Day5'])\n",
        "days"
      ],
      "metadata": {
        "colab": {
          "base_uri": "https://localhost:8080/"
        },
        "id": "QaMGyV2zOCgY",
        "outputId": "cd2b4334-4995-41df-d855-107a2f8b4bb4"
      },
      "execution_count": 2,
      "outputs": [
        {
          "output_type": "execute_result",
          "data": {
            "text/plain": [
              "Day1       Monday\n",
              "Day2      Tuesday\n",
              "Day3    Wednesday\n",
              "Day4     Thursday\n",
              "Day5       Friday\n",
              "dtype: object"
            ]
          },
          "metadata": {},
          "execution_count": 2
        }
      ]
    },
    {
      "cell_type": "code",
      "source": [
        "courses = pd.Series(['Economics','Geography','Finance','Mathematics','History'], index = ['Day1','Day2','Day3','Day4','Day5'])\n",
        "days"
      ],
      "metadata": {
        "id": "p0c6NDsZOCXh"
      },
      "execution_count": null,
      "outputs": []
    }
  ]
}