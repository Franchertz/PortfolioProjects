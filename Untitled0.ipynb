{
  "cells": [
    {
      "cell_type": "markdown",
      "metadata": {
        "id": "view-in-github",
        "colab_type": "text"
      },
      "source": [
        "<a href=\"https://colab.research.google.com/github/Franchertz/PortfolioProjects/blob/main/Untitled0.ipynb\" target=\"_parent\"><img src=\"https://colab.research.google.com/assets/colab-badge.svg\" alt=\"Open In Colab\"/></a>"
      ]
    },
    {
      "cell_type": "code",
      "execution_count": null,
      "metadata": {
        "id": "TXltpFrK4yN4"
      },
      "outputs": [],
      "source": [
        "my_variables=(1,3,5,7,9)\n"
      ]
    },
    {
      "cell_type": "code",
      "execution_count": null,
      "metadata": {
        "colab": {
          "base_uri": "https://localhost:8080/"
        },
        "id": "5pGUhDAh4zjb",
        "outputId": "dc0c7bfd-ead8-4244-b82b-714a334f93f3"
      },
      "outputs": [
        {
          "data": {
            "text/plain": [
              "(1, 3, 5, 7, 9)"
            ]
          },
          "execution_count": 2,
          "metadata": {},
          "output_type": "execute_result"
        }
      ],
      "source": [
        "my_variables"
      ]
    },
    {
      "cell_type": "code",
      "execution_count": null,
      "metadata": {
        "id": "-LwbeskG4zsq"
      },
      "outputs": [],
      "source": [
        "records=['name','date','location']"
      ]
    },
    {
      "cell_type": "code",
      "execution_count": null,
      "metadata": {
        "colab": {
          "base_uri": "https://localhost:8080/"
        },
        "id": "epSB79754z1K",
        "outputId": "40fa79fb-a727-47e3-a7ac-0724ea4bb086"
      },
      "outputs": [
        {
          "data": {
            "text/plain": [
              "['name', 'date', 'location']"
            ]
          },
          "execution_count": 4,
          "metadata": {},
          "output_type": "execute_result"
        }
      ],
      "source": [
        "records"
      ]
    },
    {
      "cell_type": "code",
      "execution_count": null,
      "metadata": {
        "colab": {
          "base_uri": "https://localhost:8080/"
        },
        "id": "8Mbylh3T8uod",
        "outputId": "f297c263-51b4-4072-d08f-2d203c68d4a0"
      },
      "outputs": [
        {
          "name": "stdout",
          "output_type": "stream",
          "text": [
            "the answer is:   31\n"
          ]
        }
      ],
      "source": [
        "#adding two numbers below:\n",
        "c=23 + 8\n",
        "\n",
        "print('the answer is:  ', c)\n"
      ]
    },
    {
      "cell_type": "code",
      "execution_count": null,
      "metadata": {
        "id": "rtau4bqT8urc"
      },
      "outputs": [],
      "source": []
    },
    {
      "cell_type": "code",
      "execution_count": null,
      "metadata": {
        "id": "EjQEY1q88uxO"
      },
      "outputs": [],
      "source": [
        "def add(a,b):\n",
        "  \"\"\"Function to add two numbers\"\"\"\n",
        "  add = a + b\n",
        "  return add"
      ]
    },
    {
      "cell_type": "code",
      "execution_count": null,
      "metadata": {
        "colab": {
          "base_uri": "https://localhost:8080/"
        },
        "id": "27Uo8zZp8uzw",
        "outputId": "c840a94e-c7ce-45bd-ef0a-7ab1c1094a8d"
      },
      "outputs": [
        {
          "data": {
            "text/plain": [
              "120"
            ]
          },
          "execution_count": 9,
          "metadata": {},
          "output_type": "execute_result"
        }
      ],
      "source": [
        "add(52,68)"
      ]
    },
    {
      "cell_type": "code",
      "execution_count": null,
      "metadata": {
        "id": "5vTwCG9pOkoj"
      },
      "outputs": [],
      "source": [
        "def add(a,b):\n",
        "  \"\"\"Function to add two numbers\"\"\"\n",
        "  add = a + b\n",
        "  return add"
      ]
    },
    {
      "cell_type": "code",
      "execution_count": null,
      "metadata": {
        "colab": {
          "base_uri": "https://localhost:8080/",
          "height": 35
        },
        "id": "O49mgP388u3B",
        "outputId": "4296a6be-a584-48fc-c1e6-e3aab0631c3f"
      },
      "outputs": [
        {
          "data": {
            "application/vnd.google.colaboratory.intrinsic+json": {
              "type": "string"
            },
            "text/plain": [
              "'Function to add two numbers'"
            ]
          },
          "execution_count": 4,
          "metadata": {},
          "output_type": "execute_result"
        }
      ],
      "source": [
        "add.__doc__"
      ]
    },
    {
      "cell_type": "code",
      "execution_count": null,
      "metadata": {
        "id": "MXFT2mxyPPKb"
      },
      "outputs": [],
      "source": [
        "my_variable = 27"
      ]
    },
    {
      "cell_type": "code",
      "execution_count": null,
      "metadata": {
        "colab": {
          "base_uri": "https://localhost:8080/"
        },
        "id": "899O22f9PPNT",
        "outputId": "3b34ce54-2127-45aa-e557-7d172af57b34"
      },
      "outputs": [
        {
          "data": {
            "text/plain": [
              "27"
            ]
          },
          "execution_count": 6,
          "metadata": {},
          "output_type": "execute_result"
        }
      ],
      "source": [
        "my_variable"
      ]
    },
    {
      "cell_type": "code",
      "execution_count": null,
      "metadata": {
        "colab": {
          "base_uri": "https://localhost:8080/"
        },
        "id": "3AiM_o4gPPQV",
        "outputId": "e5e5e6b5-c8fd-4a73-ca7e-911a9d5d4233"
      },
      "outputs": [
        {
          "name": "stdout",
          "output_type": "stream",
          "text": [
            "139762478795888\n"
          ]
        }
      ],
      "source": [
        "print(id(my_variable))"
      ]
    },
    {
      "cell_type": "code",
      "execution_count": null,
      "metadata": {
        "id": "9be4pJmZPjCU"
      },
      "outputs": [],
      "source": [
        "company = 'Secure Solutions'"
      ]
    },
    {
      "cell_type": "code",
      "execution_count": null,
      "metadata": {
        "colab": {
          "base_uri": "https://localhost:8080/",
          "height": 35
        },
        "id": "QMeSY0sJPjE9",
        "outputId": "223e0a9c-39ef-4de4-f4f6-f6302f0af931"
      },
      "outputs": [
        {
          "data": {
            "application/vnd.google.colaboratory.intrinsic+json": {
              "type": "string"
            },
            "text/plain": [
              "'Secure Solutions'"
            ]
          },
          "execution_count": 9,
          "metadata": {},
          "output_type": "execute_result"
        }
      ],
      "source": [
        "company"
      ]
    },
    {
      "cell_type": "code",
      "execution_count": null,
      "metadata": {
        "id": "DT9Rf6myQLPs"
      },
      "outputs": [],
      "source": [
        "name = 'MrFrankie'"
      ]
    },
    {
      "cell_type": "code",
      "execution_count": null,
      "metadata": {
        "colab": {
          "base_uri": "https://localhost:8080/",
          "height": 35
        },
        "id": "rNrEHhL8QLSj",
        "outputId": "15cab28e-9741-4f13-9b2e-5780d562aea1"
      },
      "outputs": [
        {
          "data": {
            "application/vnd.google.colaboratory.intrinsic+json": {
              "type": "string"
            },
            "text/plain": [
              "'MrFrankie'"
            ]
          },
          "execution_count": 11,
          "metadata": {},
          "output_type": "execute_result"
        }
      ],
      "source": [
        "name"
      ]
    },
    {
      "cell_type": "code",
      "execution_count": null,
      "metadata": {
        "id": "ytwjblE0QLZK"
      },
      "outputs": [],
      "source": [
        "a,b,c = 103,'SSG',25.5\n",
        "\"\"\"Assigning multiple values to multiple variables\"\"\"\n"
      ]
    },
    {
      "cell_type": "code",
      "execution_count": null,
      "metadata": {
        "colab": {
          "base_uri": "https://localhost:8080/"
        },
        "id": "LmtjwmebRADn",
        "outputId": "e71da2df-e141-47a8-ab89-2c345785b500"
      },
      "outputs": [
        {
          "name": "stdout",
          "output_type": "stream",
          "text": [
            "103\n",
            "SSG\n",
            "25.5\n"
          ]
        }
      ],
      "source": [
        "print(a)\n",
        "print(b)\n",
        "print(c)\n"
      ]
    },
    {
      "cell_type": "code",
      "execution_count": null,
      "metadata": {
        "colab": {
          "base_uri": "https://localhost:8080/"
        },
        "id": "4fQEZ2r8RAAX",
        "outputId": "89b5dc1a-242c-4d01-cc86-7ee2b775db7b"
      },
      "outputs": [
        {
          "data": {
            "text/plain": [
              "(103,\n",
              " 'SSG',\n",
              " 'Convert a string or number to a floating point number, if possible.')"
            ]
          },
          "execution_count": 16,
          "metadata": {},
          "output_type": "execute_result"
        }
      ],
      "source": [
        "a,b,c.__doc__"
      ]
    },
    {
      "cell_type": "code",
      "execution_count": null,
      "metadata": {
        "id": "VDHsfsrpQ_9L"
      },
      "outputs": [],
      "source": [
        "a = ['Red', 'Green', 'Blue']\n",
        "#Better written as \n"
      ]
    },
    {
      "cell_type": "code",
      "execution_count": null,
      "metadata": {
        "id": "31gDREycUTcJ"
      },
      "outputs": [],
      "source": [
        "colours = ['Red', 'Green', 'Blue']"
      ]
    },
    {
      "cell_type": "code",
      "execution_count": null,
      "metadata": {
        "id": "iqiOBVwHShgY"
      },
      "outputs": [],
      "source": [
        "b = ['Female', 'Male']\n",
        "#Better written as\n"
      ]
    },
    {
      "cell_type": "code",
      "execution_count": null,
      "metadata": {
        "id": "IxUSYG6vShU_"
      },
      "outputs": [],
      "source": [
        "gender = ['Female', 'Male']"
      ]
    },
    {
      "cell_type": "code",
      "execution_count": null,
      "metadata": {
        "id": "aKQ3NWgHShPB"
      },
      "outputs": [],
      "source": [
        "european_countries=['Spain', 'United kingdom', 'Italy', 'Holland']"
      ]
    },
    {
      "cell_type": "code",
      "execution_count": null,
      "metadata": {
        "colab": {
          "background_save": true
        },
        "id": "vKkT2KfEPjIR"
      },
      "outputs": [],
      "source": [
        "my beautifulcolours=['Indigo', 'Red', 'Green', 'Pink', 'Blue']"
      ]
    }
  ],
  "metadata": {
    "colab": {
      "provenance": [],
      "authorship_tag": "ABX9TyOEM+uxpdBR76OUiKmxz1zE",
      "include_colab_link": true
    },
    "kernelspec": {
      "display_name": "Python 3",
      "name": "python3"
    },
    "language_info": {
      "name": "python"
    }
  },
  "nbformat": 4,
  "nbformat_minor": 0
}